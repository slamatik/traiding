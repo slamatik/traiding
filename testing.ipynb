{
 "cells": [
  {
   "cell_type": "code",
   "execution_count": 1,
   "id": "c71359e5",
   "metadata": {
    "scrolled": true
   },
   "outputs": [
    {
     "name": "stdout",
     "output_type": "stream",
     "text": [
      "[*********************100%***********************]  1 of 1 completed\n"
     ]
    },
    {
     "data": {
      "text/html": [
       "<div>\n",
       "<style scoped>\n",
       "    .dataframe tbody tr th:only-of-type {\n",
       "        vertical-align: middle;\n",
       "    }\n",
       "\n",
       "    .dataframe tbody tr th {\n",
       "        vertical-align: top;\n",
       "    }\n",
       "\n",
       "    .dataframe thead th {\n",
       "        text-align: right;\n",
       "    }\n",
       "</style>\n",
       "<table border=\"1\" class=\"dataframe\">\n",
       "  <thead>\n",
       "    <tr style=\"text-align: right;\">\n",
       "      <th></th>\n",
       "      <th>Open</th>\n",
       "      <th>High</th>\n",
       "      <th>Low</th>\n",
       "      <th>Close</th>\n",
       "      <th>Adj Close</th>\n",
       "      <th>Volume</th>\n",
       "    </tr>\n",
       "    <tr>\n",
       "      <th>Date</th>\n",
       "      <th></th>\n",
       "      <th></th>\n",
       "      <th></th>\n",
       "      <th></th>\n",
       "      <th></th>\n",
       "      <th></th>\n",
       "    </tr>\n",
       "  </thead>\n",
       "  <tbody>\n",
       "    <tr>\n",
       "      <th>2021-03-03</th>\n",
       "      <td>44.580002</td>\n",
       "      <td>45.080002</td>\n",
       "      <td>41.110001</td>\n",
       "      <td>41.529999</td>\n",
       "      <td>41.529999</td>\n",
       "      <td>107863400</td>\n",
       "    </tr>\n",
       "    <tr>\n",
       "      <th>2021-03-04</th>\n",
       "      <td>40.490002</td>\n",
       "      <td>42.430000</td>\n",
       "      <td>37.590000</td>\n",
       "      <td>39.279999</td>\n",
       "      <td>39.279999</td>\n",
       "      <td>205872700</td>\n",
       "    </tr>\n",
       "    <tr>\n",
       "      <th>2021-03-05</th>\n",
       "      <td>39.240002</td>\n",
       "      <td>39.869999</td>\n",
       "      <td>31.910000</td>\n",
       "      <td>38.110001</td>\n",
       "      <td>38.110001</td>\n",
       "      <td>270803200</td>\n",
       "    </tr>\n",
       "    <tr>\n",
       "      <th>2021-03-08</th>\n",
       "      <td>36.970001</td>\n",
       "      <td>39.480000</td>\n",
       "      <td>34.900002</td>\n",
       "      <td>35.209999</td>\n",
       "      <td>35.209999</td>\n",
       "      <td>143074800</td>\n",
       "    </tr>\n",
       "    <tr>\n",
       "      <th>2021-03-09</th>\n",
       "      <td>37.480000</td>\n",
       "      <td>42.080002</td>\n",
       "      <td>36.520000</td>\n",
       "      <td>41.349998</td>\n",
       "      <td>41.349998</td>\n",
       "      <td>176602600</td>\n",
       "    </tr>\n",
       "    <tr>\n",
       "      <th>...</th>\n",
       "      <td>...</td>\n",
       "      <td>...</td>\n",
       "      <td>...</td>\n",
       "      <td>...</td>\n",
       "      <td>...</td>\n",
       "      <td>...</td>\n",
       "    </tr>\n",
       "    <tr>\n",
       "      <th>2021-08-30</th>\n",
       "      <td>38.169998</td>\n",
       "      <td>38.279999</td>\n",
       "      <td>36.639999</td>\n",
       "      <td>37.799999</td>\n",
       "      <td>37.799999</td>\n",
       "      <td>38128000</td>\n",
       "    </tr>\n",
       "    <tr>\n",
       "      <th>2021-08-31</th>\n",
       "      <td>38.240002</td>\n",
       "      <td>39.389999</td>\n",
       "      <td>37.900002</td>\n",
       "      <td>39.310001</td>\n",
       "      <td>39.310001</td>\n",
       "      <td>44942200</td>\n",
       "    </tr>\n",
       "    <tr>\n",
       "      <th>2021-09-01</th>\n",
       "      <td>37.490002</td>\n",
       "      <td>39.930000</td>\n",
       "      <td>37.200001</td>\n",
       "      <td>39.080002</td>\n",
       "      <td>39.080002</td>\n",
       "      <td>56911500</td>\n",
       "    </tr>\n",
       "    <tr>\n",
       "      <th>2021-09-02</th>\n",
       "      <td>39.070000</td>\n",
       "      <td>41.020000</td>\n",
       "      <td>38.900002</td>\n",
       "      <td>40.349998</td>\n",
       "      <td>40.349998</td>\n",
       "      <td>43827700</td>\n",
       "    </tr>\n",
       "    <tr>\n",
       "      <th>2021-09-03</th>\n",
       "      <td>40.110001</td>\n",
       "      <td>40.965000</td>\n",
       "      <td>39.831001</td>\n",
       "      <td>40.139999</td>\n",
       "      <td>40.139999</td>\n",
       "      <td>26314280</td>\n",
       "    </tr>\n",
       "  </tbody>\n",
       "</table>\n",
       "<p>130 rows × 6 columns</p>\n",
       "</div>"
      ],
      "text/plain": [
       "                 Open       High        Low      Close  Adj Close     Volume\n",
       "Date                                                                        \n",
       "2021-03-03  44.580002  45.080002  41.110001  41.529999  41.529999  107863400\n",
       "2021-03-04  40.490002  42.430000  37.590000  39.279999  39.279999  205872700\n",
       "2021-03-05  39.240002  39.869999  31.910000  38.110001  38.110001  270803200\n",
       "2021-03-08  36.970001  39.480000  34.900002  35.209999  35.209999  143074800\n",
       "2021-03-09  37.480000  42.080002  36.520000  41.349998  41.349998  176602600\n",
       "...               ...        ...        ...        ...        ...        ...\n",
       "2021-08-30  38.169998  38.279999  36.639999  37.799999  37.799999   38128000\n",
       "2021-08-31  38.240002  39.389999  37.900002  39.310001  39.310001   44942200\n",
       "2021-09-01  37.490002  39.930000  37.200001  39.080002  39.080002   56911500\n",
       "2021-09-02  39.070000  41.020000  38.900002  40.349998  40.349998   43827700\n",
       "2021-09-03  40.110001  40.965000  39.831001  40.139999  40.139999   26314280\n",
       "\n",
       "[130 rows x 6 columns]"
      ]
     },
     "execution_count": 1,
     "metadata": {},
     "output_type": "execute_result"
    }
   ],
   "source": [
    "import yfinance as yf \n",
    "import talib as ta\n",
    "\n",
    "msft = yf.download('NIO', period='6mo', interval='1d')\n",
    "msft"
   ]
  },
  {
   "cell_type": "code",
   "execution_count": 7,
   "id": "e1c68dbb",
   "metadata": {},
   "outputs": [],
   "source": [
    "ha = ta.CDLHAMMER(open=msft.Open, close=msft.Close, high=msft.High, low=msft.Low)"
   ]
  },
  {
   "cell_type": "code",
   "execution_count": 8,
   "id": "e10321be",
   "metadata": {},
   "outputs": [
    {
     "data": {
      "text/plain": [
       "Date\n",
       "2021-07-02    100\n",
       "2021-08-30    100\n",
       "dtype: int32"
      ]
     },
     "execution_count": 8,
     "metadata": {},
     "output_type": "execute_result"
    }
   ],
   "source": [
    "ha[ha > 1]"
   ]
  },
  {
   "cell_type": "code",
   "execution_count": null,
   "id": "f8982f6f",
   "metadata": {},
   "outputs": [],
   "source": []
  },
  {
   "cell_type": "code",
   "execution_count": 46,
   "id": "62bd5b28",
   "metadata": {},
   "outputs": [],
   "source": [
    "txt = 'geeks for geeks'\n",
    "pat = 'geek'\n",
    "q = 101\n",
    "d = 256"
   ]
  },
  {
   "cell_type": "code",
   "execution_count": 54,
   "id": "04b7c5a7",
   "metadata": {},
   "outputs": [],
   "source": [
    "n = len(txt)\n",
    "m = len(pat)\n",
    "\n",
    "p = 0\n",
    "t = 0\n",
    "\n",
    "h = 1"
   ]
  },
  {
   "cell_type": "code",
   "execution_count": 55,
   "id": "e7ea09c1",
   "metadata": {},
   "outputs": [],
   "source": [
    "for i in range(m-1):\n",
    "    h = (h * d) % q"
   ]
  },
  {
   "cell_type": "code",
   "execution_count": 56,
   "id": "4e8d704a",
   "metadata": {},
   "outputs": [],
   "source": [
    "for i in range(m):\n",
    "    p = (d * p + ord(pat[i])) % q # hash value of pattern\n",
    "    t = (d * t + ord(txt[i])) % q # hash value of first window of the text"
   ]
  },
  {
   "cell_type": "code",
   "execution_count": 62,
   "id": "2499d76b",
   "metadata": {},
   "outputs": [
    {
     "name": "stdout",
     "output_type": "stream",
     "text": [
      "Pattern found at index 0\n",
      "Pattern found at index 10\n"
     ]
    }
   ],
   "source": [
    "for i in range(n - m + 1):\n",
    "    if p == t:\n",
    "        for j in range(m):\n",
    "            if txt[i+j] != pat[j]:\n",
    "                break\n",
    "            else:\n",
    "                j += 1\n",
    "        if j == m:\n",
    "            print(f'Pattern found at index {i}')\n",
    "    if i < n - m:\n",
    "        t ="
   ]
  },
  {
   "cell_type": "code",
   "execution_count": 60,
   "id": "72632790",
   "metadata": {},
   "outputs": [
    {
     "data": {
      "text/plain": [
       "15"
      ]
     },
     "execution_count": 60,
     "metadata": {},
     "output_type": "execute_result"
    }
   ],
   "source": [
    "n"
   ]
  },
  {
   "cell_type": "code",
   "execution_count": 10,
   "id": "35030c36",
   "metadata": {},
   "outputs": [
    {
     "name": "stdout",
     "output_type": "stream",
     "text": [
      "[*********************100%***********************]  2 of 2 completed\n"
     ]
    }
   ],
   "source": [
    "import yfinance as yf \n",
    "import pandas as pd\n",
    "tickers = ['msft', 'aapl']\n",
    "df = yf.download(tickers, group_by='ticker')"
   ]
  },
  {
   "cell_type": "code",
   "execution_count": 7,
   "id": "9a2355be",
   "metadata": {},
   "outputs": [
    {
     "data": {
      "text/plain": [
       "Index(['MSFT', 'AAPL'], dtype='object')"
      ]
     },
     "execution_count": 7,
     "metadata": {},
     "output_type": "execute_result"
    }
   ],
   "source": [
    "df.columns.levels[0]"
   ]
  },
  {
   "cell_type": "code",
   "execution_count": 8,
   "id": "253c5588",
   "metadata": {},
   "outputs": [
    {
     "name": "stdout",
     "output_type": "stream",
     "text": [
      "MSFT\n",
      "AAPL\n"
     ]
    }
   ],
   "source": [
    "for ticker in df.columns.levels[0]:\n",
    "    print(ticker)"
   ]
  },
  {
   "cell_type": "code",
   "execution_count": 29,
   "id": "3caea357",
   "metadata": {},
   "outputs": [],
   "source": [
    "names = [(144, 'A'), (431, 'AAL'), (421, 'AAP'), (1, 'AAPL'), (34, 'ABBV'), (376, 'ABC'), (387, 'ABMD'), (27, 'ABT'), (33, 'ACN'), (17, 'ADBE'), (89, 'ADI'), (229, 'ADM'), (91, 'ADP'), (119, 'ADSK'), (309, 'AEE'), (179, 'AEP'), (389, 'AES'), (219, 'AFL'), (169, 'AIG'), (458, 'AIZ'), (262, 'AJG'), (364, 'AKAM'), (272, 'ALB'), (156, 'ALGN'), (487, 'ALK'), (193, 'ALL'), (425, 'ALLE'), (69, 'AMAT'), (347, 'AMCR'), (62, 'AMD'), (247, 'AME'), (65, 'AMGN'), (245, 'AMP'), (64, 'AMT'), (3, 'AMZN'), (341, 'ANET'), (246, 'ANSS'), (87, 'ANTM'), (128, 'AON'), (459, 'AOS'), (486, 'APA'), (137, 'APD'), (171, 'APH'), (189, 'APTV'), (266, 'ARE'), (427, 'ATO'), (133, 'ATVI'), (243, 'AVB'), (37, 'AVGO'), (361, 'AVY'), (231, 'AWK'), (81, 'AXP'), (228, 'AZO'), (72, 'BA'), (18, 'BAC'), (203, 'BAX'), (367, 'BBWI'), (281, 'BBY'), (113, 'BDX'), (473, 'BEN'), (150, 'BIIB'), (378, 'BIO'), (178, 'BK'), (85, 'BKNG'), (386, 'BKR'), (63, 'BLK'), (249, 'BLL'), (55, 'BMY'), (343, 'BR'), (129, 'BSX'), (456, 'BWA'), (392, 'BXP'), (56, 'C'), (395, 'CAG'), (402, 'CAH'), (168, 'CARR'), (74, 'CAT'), (97, 'CB'), (420, 'CBOE'), (240, 'CBRE'), (96, 'CCI'), (360, 'CCL'), (174, 'CDNS'), (267, 'CDW'), (370, 'CE'), (307, 'CERN'), (461, 'CF'), (363, 'CFG'), (339, 'CHD'), (439, 'CHRW'), (78, 'CHTR'), (115, 'CI'), (365, 'CINF'), (125, 'CL'), (335, 'CLX'), (457, 'CMA'), (20, 'CMCSA'), (114, 'CME'), (142, 'CMG'), (222, 'CMI'), (362, 'CMS'), (211, 'CNC'), (403, 'CNP'), (110, 'COF'), (492, 'COG'), (315, 'COO'), (107, 'COP'), (39, 'COST'), (482, 'CPB'), (257, 'CPRT'), (314, 'CRL'), (22, 'CRM'), (24, 'CSCO'), (109, 'CSX'), (226, 'CTAS'), (313, 'CTLT'), (191, 'CTSH'), (238, 'CTVA'), (429, 'CTXS'), (79, 'CVS'), (43, 'CVX'), (325, 'CZR'), (131, 'D'), (288, 'DAL'), (196, 'DD'), (73, 'DE'), (201, 'DFS'), (146, 'DG'), (348, 'DGX'), (248, 'DHI'), (36, 'DHR'), (16, 'DIS'), (501, 'DISCA'), (483, 'DISCK'), (451, 'DISH'), (176, 'DLR'), (329, 'DLTR'), (289, 'DOV'), (166, 'DOW'), (342, 'DPZ'), (354, 'DRE'), (353, 'DRI'), (305, 'DTE'), (101, 'DUK'), (471, 'DVA'), (375, 'DVN'), (469, 'DXC'), (159, 'DXCM'), (190, 'EA'), (160, 'EBAY'), (140, 'ECL'), (284, 'ED'), (236, 'EFX'), (318, 'EIX'), (102, 'EL'), (398, 'EMN'), (130, 'EMR'), (297, 'ENPH'), (197, 'EOG'), (108, 'EQIX'), (264, 'EQR'), (253, 'ES'), (327, 'ESS'), (120, 'ETN'), (317, 'ETR'), (271, 'ETSY'), (399, 'EVRG'), (111, 'EW'), (163, 'EXC'), (326, 'EXPD'), (340, 'EXPE'), (291, 'EXR'), (153, 'F'), (415, 'FANG'), (239, 'FAST'), (4, 'FB'), (413, 'FBHS'), (145, 'FCX'), (126, 'FDX'), (332, 'FE'), (436, 'FFIV'), (104, 'FIS'), (117, 'FISV'), (273, 'FITB'), (319, 'FLT'), (442, 'FMC'), (498, 'FOX'), (440, 'FOXA'), (227, 'FRC'), (480, 'FRT'), (182, 'FTNT'), (290, 'FTV'), (175, 'GD'), (75, 'GE'), (88, 'GILD'), (220, 'GIS'), (472, 'GL'), (255, 'GLW'), (132, 'GM'), (269, 'GNRC'), (6, 'GOOG'), (5, 'GOOGL'), (374, 'GPC'), (167, 'GPN'), (495, 'GPS'), (279, 'GRMN'), (59, 'GS'), (357, 'GWW'), (372, 'HAL'), (430, 'HAS'), (308, 'HBAN'), (489, 'HBI'), (123, 'HCA'), (14, 'HD'), (359, 'HES'), (300, 'HIG'), (481, 'HII'), (223, 'HLT'), (338, 'HOLX'), (51, 'HON'), (345, 'HPE'), (218, 'HPQ'), (428, 'HRL'), (452, 'HSIC'), (446, 'HST'), (285, 'HSY'), (149, 'HUM'), (434, 'HWM'), (70, 'IBM'), (122, 'ICE'), (138, 'IDXX'), (384, 'IEX'), (206, 'IFF'), (124, 'ILMN'), (411, 'INCY'), (177, 'INFO'), (30, 'INTC'), (54, 'INTU'), (304, 'IP'), (409, 'IPG'), (493, 'IPGP'), (161, 'IQV'), (344, 'IR'), (417, 'IRM'), (68, 'ISRG'), (280, 'IT'), (121, 'ITW'), (464, 'IVZ'), (377, 'J'), (400, 'JBHT'), (143, 'JCI'), (423, 'JKHY'), (10, 'JNJ'), (460, 'JNPR'), (9, 'JPM'), (390, 'K'), (351, 'KEY'), (232, 'KEYS'), (303, 'KHC'), (422, 'KIM'), (148, 'KLAC'), (170, 'KMB'), (244, 'KMI'), (336, 'KMX'), (29, 'KO'), (221, 'KR'), (278, 'KSU'), (432, 'L'), (424, 'LDOS'), (490, 'LEG'), (260, 'LEN'), (261, 'LH'), (164, 'LHX'), (49, 'LIN'), (405, 'LKQ'), (35, 'LLY'), (92, 'LMT'), (435, 'LNC'), (401, 'LNT'), (58, 'LOW'), (95, 'LRCX'), (444, 'LUMN'), (263, 'LUV'), (410, 'LVS'), (465, 'LW'), (282, 'LYB'), (433, 'LYV'), (19, 'MA'), (316, 'MAA'), (215, 'MAR'), (394, 'MAS'), (46, 'MCD'), (181, 'MCHP'), (242, 'MCK'), (135, 'MCO'), (94, 'MDLZ'), (44, 'MDT'), (172, 'MET'), (381, 'MGM'), (443, 'MHK'), (324, 'MKC'), (369, 'MKTX'), (301, 'MLM'), (103, 'MMC'), (76, 'MMM'), (213, 'MNST'), (86, 'MO'), (448, 'MOS'), (207, 'MPC'), (322, 'MPWR'), (42, 'MRK'), (77, 'MRNA'), (468, 'MRO'), (53, 'MS'), (147, 'MSCI'), (2, 'MSFT'), (188, 'MSI'), (373, 'MTB'), (210, 'MTD'), (98, 'MU'), (470, 'NCLH'), (311, 'NDAQ'), (48, 'NEE'), (173, 'NEM'), (23, 'NFLX'), (462, 'NI'), (32, 'NKE'), (396, 'NLOK'), (484, 'NLSN'), (141, 'NOC'), (499, 'NOV'), (67, 'NOW'), (449, 'NRG'), (127, 'NSC'), (349, 'NTAP'), (295, 'NTRS'), (214, 'NUE'), (7, 'NVDA'), (379, 'NVR'), (463, 'NWL'), (503, 'NWS'), (475, 'NWSA'), (134, 'NXPI'), (276, 'O'), (268, 'ODFL'), (479, 'OGN'), (302, 'OKE'), (397, 'OMC'), (50, 'ORCL'), (186, 'ORLY'), (208, 'OTIS'), (328, 'OXY'), (299, 'PAYC'), (212, 'PAYX'), (488, 'PBCT'), (265, 'PCAR'), (356, 'PEAK'), (237, 'PEG'), (441, 'PENN'), (31, 'PEP'), (21, 'PFE'), (385, 'PFG'), (13, 'PG'), (139, 'PGR'), (200, 'PH'), (406, 'PHM'), (407, 'PKG'), (330, 'PKI'), (83, 'PLD'), (52, 'PM'), (100, 'PNC'), (426, 'PNR'), (478, 'PNW'), (346, 'POOL'), (202, 'PPG'), (310, 'PPL'), (497, 'PRGO'), (185, 'PRU'), (162, 'PSA'), (252, 'PSX'), (414, 'PTC'), (485, 'PVH'), (408, 'PWR'), (225, 'PXD'), (15, 'PYPL'), (47, 'QCOM'), (320, 'QRVO'), (371, 'RCL'), (454, 'RE'), (450, 'REG'), (116, 'REGN'), (352, 'RF'), (445, 'RHI'), (383, 'RJF'), (494, 'RL'), (184, 'RMD'), (205, 'ROK'), (477, 'ROL'), (155, 'ROP'), (183, 'ROST'), (283, 'RSG'), (66, 'RTX'), (198, 'SBAC'), (61, 'SBUX'), (80, 'SCHW'), (467, 'SEE'), (112, 'SHW'), (234, 'SIVB'), (419, 'SJM'), (195, 'SLB'), (437, 'SNA'), (154, 'SNPS'), (118, 'SO'), (180, 'SPG'), (82, 'SPGI'), (187, 'SRE'), (333, 'STE'), (241, 'STT'), (382, 'STX'), (216, 'STZ'), (250, 'SWK'), (256, 'SWKS'), (277, 'SYF'), (90, 'SYK'), (192, 'SYY'), (41, 'T'), (474, 'TAP'), (233, 'TDG'), (323, 'TDY'), (350, 'TECH'), (157, 'TEL'), (337, 'TER'), (106, 'TFC'), (366, 'TFX'), (71, 'TGT'), (93, 'TJX'), (28, 'TMO'), (99, 'TMUS'), (447, 'TPR'), (298, 'TRMB'), (158, 'TROW'), (194, 'TRV'), (312, 'TSCO'), (8, 'TSLA'), (306, 'TSN'), (165, 'TT'), (368, 'TTWO'), (152, 'TWTR'), (45, 'TXN'), (388, 'TXT'), (355, 'TYL'), (502, 'UA'), (500, 'UAA'), (404, 'UAL'), (393, 'UDR'), (438, 'UHS'), (331, 'ULTA'), (11, 'UNH'), (496, 'UNM'), (57, 'UNP'), (60, 'UPS'), (286, 'URI'), (105, 'USB'), (12, 'V'), (292, 'VFC'), (296, 'VIAC'), (275, 'VLO'), (293, 'VMC'), (491, 'VNO'), (235, 'VRSK'), (321, 'VRSN'), (151, 'VRTX'), (334, 'VTR'), (380, 'VTRS'), (26, 'VZ'), (391, 'WAB'), (287, 'WAT'), (224, 'WBA'), (358, 'WDC'), (258, 'WEC'), (217, 'WELL'), (40, 'WFC'), (412, 'WHR'), (270, 'WLTW'), (136, 'WM'), (259, 'WMB'), (38, 'WMT'), (453, 'WRB'), (416, 'WRK'), (230, 'WST'), (476, 'WU'), (274, 'WY'), (455, 'WYNN'), (209, 'XEL'), (204, 'XLNX'), (25, 'XOM'), (418, 'XRAY'), (294, 'XYL'), (199, 'YUM'), (254, 'ZBH'), (251, 'ZBRA'), (466, 'ZION'), (84, 'ZTS')]"
   ]
  },
  {
   "cell_type": "code",
   "execution_count": 30,
   "id": "d5d248fa",
   "metadata": {},
   "outputs": [],
   "source": [
    "start = 0\n",
    "for i in range(0, len(data), 100):\n",
    "    names_slice = names[i:i + 100]\n",
    "    "
   ]
  },
  {
   "cell_type": "code",
   "execution_count": 20,
   "id": "db7517ff",
   "metadata": {},
   "outputs": [
    {
     "data": {
      "text/plain": [
       "3"
      ]
     },
     "execution_count": 20,
     "metadata": {},
     "output_type": "execute_result"
    }
   ],
   "source": [
    "503 % 100"
   ]
  },
  {
   "cell_type": "code",
   "execution_count": 22,
   "id": "d84021fe",
   "metadata": {},
   "outputs": [
    {
     "data": {
      "text/plain": [
       "[(251, 'ZBRA'), (466, 'ZION'), (84, 'ZTS')]"
      ]
     },
     "execution_count": 22,
     "metadata": {},
     "output_type": "execute_result"
    }
   ],
   "source": [
    "data[500:555]"
   ]
  },
  {
   "cell_type": "code",
   "execution_count": 36,
   "id": "ae531c5c",
   "metadata": {},
   "outputs": [],
   "source": [
    "names = [(251, 'ZBRA'), (466, 'ZION'), (84, 'ZTS')]\n",
    "ticker_slice = [i[1] for i in names_slice]\n",
    "idx_slice = [i[0] for i in names_slice]"
   ]
  },
  {
   "cell_type": "code",
   "execution_count": 38,
   "id": "7a2ba198",
   "metadata": {},
   "outputs": [
    {
     "data": {
      "text/plain": [
       "('ZBRA ZION ZTS', ['ZBRA', 'ZION', 'ZTS'], [251, 466, 84])"
      ]
     },
     "execution_count": 38,
     "metadata": {},
     "output_type": "execute_result"
    }
   ],
   "source": [
    "' '.join([i[1] for i in test]), ticker_slice, idx_slice"
   ]
  },
  {
   "cell_type": "code",
   "execution_count": 34,
   "id": "12f22fee",
   "metadata": {},
   "outputs": [
    {
     "name": "stdout",
     "output_type": "stream",
     "text": [
      "[*********************100%***********************]  3 of 3 completed\n"
     ]
    }
   ],
   "source": [
    "df = yf.download(' '.join([i[1] for i in names]), group_by='ticker')"
   ]
  },
  {
   "cell_type": "code",
   "execution_count": 50,
   "id": "29a2c662",
   "metadata": {},
   "outputs": [
    {
     "name": "stdout",
     "output_type": "stream",
     "text": [
      "ZTS\n",
      "ZBRA\n",
      "ZION\n"
     ]
    }
   ],
   "source": [
    "for col in df.columns.levels[0]:\n",
    "    print(col)\n",
    "#     temp_df = df[col].dropna()\n",
    "#     for date, row in temp_df.iterrows():"
   ]
  },
  {
   "cell_type": "code",
   "execution_count": 52,
   "id": "b3064f24",
   "metadata": {},
   "outputs": [
    {
     "name": "stdout",
     "output_type": "stream",
     "text": [
      "                  Open        High         Low       Close   Adj Close  \\\n",
      "Date                                                                     \n",
      "1991-08-15    3.888889    4.166667    3.888889    4.055556    4.055556   \n",
      "1991-08-16    4.000000    4.111111    3.944444    4.000000    4.000000   \n",
      "1991-08-19    3.722222    3.833333    3.555556    3.777778    3.777778   \n",
      "1991-08-20    3.833333    3.833333    3.722222    3.722222    3.722222   \n",
      "1991-08-21    3.777778    4.055556    3.777778    4.000000    4.000000   \n",
      "...                ...         ...         ...         ...         ...   \n",
      "2021-09-03  589.000000  594.770020  585.559998  590.599976  590.599976   \n",
      "2021-09-07  593.580017  593.580017  580.400024  581.140015  581.140015   \n",
      "2021-09-08  582.030029  584.020020  572.900024  579.750000  579.750000   \n",
      "2021-09-09  578.489990  585.109985  576.020020  577.469971  577.469971   \n",
      "2021-09-10  582.070007  586.760010  578.570007  580.630005  580.630005   \n",
      "\n",
      "                Volume  \n",
      "Date                    \n",
      "1991-08-15  10640250.0  \n",
      "1991-08-16   2114550.0  \n",
      "1991-08-19   1482750.0  \n",
      "1991-08-20   1048500.0  \n",
      "1991-08-21   1281150.0  \n",
      "...                ...  \n",
      "2021-09-03    178600.0  \n",
      "2021-09-07    179800.0  \n",
      "2021-09-08    137700.0  \n",
      "2021-09-09    148900.0  \n",
      "2021-09-10    140100.0  \n",
      "\n",
      "[7576 rows x 6 columns]\n",
      "251\n",
      "                 Open       High        Low      Close  Adj Close     Volume\n",
      "Date                                                                        \n",
      "1980-03-17   0.000000   1.916667   1.833333   1.833333   0.856768    72000.0\n",
      "1980-03-18   0.000000   1.895833   1.812500   1.812500   0.847031     8400.0\n",
      "1980-03-19   1.812500   1.812500   1.812500   1.812500   0.847031        0.0\n",
      "1980-03-20   0.000000   1.895833   1.812500   1.812500   0.847031     1200.0\n",
      "1980-03-21   0.000000   1.875000   1.791667   1.791667   0.837296    38400.0\n",
      "...               ...        ...        ...        ...        ...        ...\n",
      "2021-09-03  57.330002  57.860001  56.779999  57.119999  57.119999  1291000.0\n",
      "2021-09-07  57.380001  58.349998  57.259998  57.500000  57.500000  1060300.0\n",
      "2021-09-08  57.310001  57.730000  56.430000  56.500000  56.500000  1142200.0\n",
      "2021-09-09  56.410000  58.290001  56.230000  57.560001  57.560001  1433300.0\n",
      "2021-09-10  57.799999  58.290001  57.160000  57.380001  57.380001  1281400.0\n",
      "\n",
      "[10344 rows x 6 columns]\n",
      "466\n",
      "                  Open        High         Low       Close   Adj Close  \\\n",
      "Date                                                                     \n",
      "2013-02-01   31.500000   31.740000   30.469999   31.010000   29.200230   \n",
      "2013-02-04   31.090000   31.990000   30.760000   31.020000   29.209648   \n",
      "2013-02-05   31.250000   31.980000   30.850000   31.040001   29.228481   \n",
      "2013-02-06   30.980000   31.430000   30.750000   31.030001   29.219069   \n",
      "2013-02-07   31.000000   32.730000   31.000000   32.000000   30.132456   \n",
      "...                ...         ...         ...         ...         ...   \n",
      "2021-09-03  208.220001  210.100006  207.149994  209.690002  209.690002   \n",
      "2021-09-07  209.479996  209.869995  205.460007  207.809998  207.809998   \n",
      "2021-09-08  207.000000  209.410004  206.500000  209.330002  209.330002   \n",
      "2021-09-09  209.500000  210.000000  205.860001  206.020004  206.020004   \n",
      "2021-09-10  206.710007  207.850006  206.339996  207.000000  207.000000   \n",
      "\n",
      "                Volume  \n",
      "Date                    \n",
      "2013-02-01  66789100.0  \n",
      "2013-02-04   7695400.0  \n",
      "2013-02-05   5013200.0  \n",
      "2013-02-06   2126100.0  \n",
      "2013-02-07   3800800.0  \n",
      "...                ...  \n",
      "2021-09-03   1003500.0  \n",
      "2021-09-07    977200.0  \n",
      "2021-09-08    832600.0  \n",
      "2021-09-09   1109600.0  \n",
      "2021-09-10   1151400.0  \n",
      "\n",
      "[2168 rows x 6 columns]\n",
      "84\n"
     ]
    }
   ],
   "source": [
    "for i in range(len(ticker_slice)):\n",
    "    temp_df = df[ticker_slice[i]].dropna()\n",
    "    print(temp_df)\n",
    "    print(idx_slice[i])\n",
    "    "
   ]
  },
  {
   "cell_type": "code",
   "execution_count": null,
   "id": "312acafe",
   "metadata": {},
   "outputs": [],
   "source": []
  }
 ],
 "metadata": {
  "kernelspec": {
   "display_name": "Python 3 (ipykernel)",
   "language": "python",
   "name": "python3"
  },
  "language_info": {
   "codemirror_mode": {
    "name": "ipython",
    "version": 3
   },
   "file_extension": ".py",
   "mimetype": "text/x-python",
   "name": "python",
   "nbconvert_exporter": "python",
   "pygments_lexer": "ipython3",
   "version": "3.9.1"
  }
 },
 "nbformat": 4,
 "nbformat_minor": 5
}
