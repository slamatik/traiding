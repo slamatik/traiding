{
 "cells": [
  {
   "cell_type": "code",
   "execution_count": 59,
   "id": "15d38ac5",
   "metadata": {},
   "outputs": [],
   "source": [
    "import matplotlib.pyplot as plt\n",
    "import pandas as pd\n",
    "import numpy as np\n",
    "import yfinance as yf\n",
    "from datetime import datetime, time\n",
    "from dateutil.relativedelta import relativedelta"
   ]
  },
  {
   "cell_type": "code",
   "execution_count": 60,
   "id": "f5b9bb39",
   "metadata": {},
   "outputs": [],
   "source": [
    "df = pd.read_csv(r'C:\\Users\\slama\\PycharmProjects\\traiding\\backtesting\\AAPL_1min_2weeks.csv', index_col='Datetime')"
   ]
  },
  {
   "cell_type": "code",
   "execution_count": 49,
   "id": "d320bce9",
   "metadata": {},
   "outputs": [],
   "source": [
    "df.index = pd.to_datetime(df.index)"
   ]
  },
  {
   "cell_type": "code",
   "execution_count": 69,
   "id": "94cd64ad",
   "metadata": {},
   "outputs": [],
   "source": [
    "df.to_csv(r'C:\\Users\\slama\\PycharmProjects\\traiding\\backtesting\\AAPL_1min_2weeks.csv')"
   ]
  },
  {
   "cell_type": "code",
   "execution_count": 66,
   "id": "5a6e7343",
   "metadata": {},
   "outputs": [],
   "source": [
    "df.index = [i[:-6] for i in df.index]"
   ]
  },
  {
   "cell_type": "code",
   "execution_count": 68,
   "id": "3e0850a3",
   "metadata": {},
   "outputs": [
    {
     "data": {
      "text/html": [
       "<div>\n",
       "<style scoped>\n",
       "    .dataframe tbody tr th:only-of-type {\n",
       "        vertical-align: middle;\n",
       "    }\n",
       "\n",
       "    .dataframe tbody tr th {\n",
       "        vertical-align: top;\n",
       "    }\n",
       "\n",
       "    .dataframe thead th {\n",
       "        text-align: right;\n",
       "    }\n",
       "</style>\n",
       "<table border=\"1\" class=\"dataframe\">\n",
       "  <thead>\n",
       "    <tr style=\"text-align: right;\">\n",
       "      <th></th>\n",
       "      <th>Open</th>\n",
       "      <th>High</th>\n",
       "      <th>Low</th>\n",
       "      <th>Close</th>\n",
       "      <th>Adj Close</th>\n",
       "      <th>Volume</th>\n",
       "    </tr>\n",
       "  </thead>\n",
       "  <tbody>\n",
       "    <tr>\n",
       "      <th>2021-11-29 09:30:00</th>\n",
       "      <td>159.656601</td>\n",
       "      <td>159.804993</td>\n",
       "      <td>159.656601</td>\n",
       "      <td>159.804993</td>\n",
       "      <td>159.804993</td>\n",
       "      <td>3937352</td>\n",
       "    </tr>\n",
       "    <tr>\n",
       "      <th>2021-11-29 09:31:00</th>\n",
       "      <td>159.690002</td>\n",
       "      <td>160.089996</td>\n",
       "      <td>159.210007</td>\n",
       "      <td>159.382996</td>\n",
       "      <td>159.382996</td>\n",
       "      <td>884406</td>\n",
       "    </tr>\n",
       "    <tr>\n",
       "      <th>2021-11-29 09:32:00</th>\n",
       "      <td>159.360001</td>\n",
       "      <td>159.800003</td>\n",
       "      <td>159.080002</td>\n",
       "      <td>159.100006</td>\n",
       "      <td>159.100006</td>\n",
       "      <td>506205</td>\n",
       "    </tr>\n",
       "    <tr>\n",
       "      <th>2021-11-29 09:33:00</th>\n",
       "      <td>159.250000</td>\n",
       "      <td>159.399994</td>\n",
       "      <td>159.250000</td>\n",
       "      <td>159.376907</td>\n",
       "      <td>159.376907</td>\n",
       "      <td>468256</td>\n",
       "    </tr>\n",
       "    <tr>\n",
       "      <th>2021-11-29 09:34:00</th>\n",
       "      <td>159.750000</td>\n",
       "      <td>159.750000</td>\n",
       "      <td>159.561005</td>\n",
       "      <td>159.580002</td>\n",
       "      <td>159.580002</td>\n",
       "      <td>447870</td>\n",
       "    </tr>\n",
       "    <tr>\n",
       "      <th>...</th>\n",
       "      <td>...</td>\n",
       "      <td>...</td>\n",
       "      <td>...</td>\n",
       "      <td>...</td>\n",
       "      <td>...</td>\n",
       "      <td>...</td>\n",
       "    </tr>\n",
       "    <tr>\n",
       "      <th>2021-12-10 15:55:00</th>\n",
       "      <td>179.070007</td>\n",
       "      <td>179.190002</td>\n",
       "      <td>178.919998</td>\n",
       "      <td>179.184998</td>\n",
       "      <td>179.184998</td>\n",
       "      <td>727684</td>\n",
       "    </tr>\n",
       "    <tr>\n",
       "      <th>2021-12-10 15:56:00</th>\n",
       "      <td>179.184998</td>\n",
       "      <td>179.300003</td>\n",
       "      <td>179.169998</td>\n",
       "      <td>179.270004</td>\n",
       "      <td>179.270004</td>\n",
       "      <td>835855</td>\n",
       "    </tr>\n",
       "    <tr>\n",
       "      <th>2021-12-10 15:57:00</th>\n",
       "      <td>179.270004</td>\n",
       "      <td>179.369995</td>\n",
       "      <td>179.210007</td>\n",
       "      <td>179.210007</td>\n",
       "      <td>179.210007</td>\n",
       "      <td>838444</td>\n",
       "    </tr>\n",
       "    <tr>\n",
       "      <th>2021-12-10 15:58:00</th>\n",
       "      <td>179.210007</td>\n",
       "      <td>179.479996</td>\n",
       "      <td>179.123199</td>\n",
       "      <td>179.460007</td>\n",
       "      <td>179.460007</td>\n",
       "      <td>1004865</td>\n",
       "    </tr>\n",
       "    <tr>\n",
       "      <th>2021-12-10 15:59:00</th>\n",
       "      <td>179.470001</td>\n",
       "      <td>179.630005</td>\n",
       "      <td>179.350006</td>\n",
       "      <td>179.500000</td>\n",
       "      <td>179.500000</td>\n",
       "      <td>1736159</td>\n",
       "    </tr>\n",
       "  </tbody>\n",
       "</table>\n",
       "<p>3899 rows × 6 columns</p>\n",
       "</div>"
      ],
      "text/plain": [
       "                           Open        High         Low       Close  \\\n",
       "2021-11-29 09:30:00  159.656601  159.804993  159.656601  159.804993   \n",
       "2021-11-29 09:31:00  159.690002  160.089996  159.210007  159.382996   \n",
       "2021-11-29 09:32:00  159.360001  159.800003  159.080002  159.100006   \n",
       "2021-11-29 09:33:00  159.250000  159.399994  159.250000  159.376907   \n",
       "2021-11-29 09:34:00  159.750000  159.750000  159.561005  159.580002   \n",
       "...                         ...         ...         ...         ...   \n",
       "2021-12-10 15:55:00  179.070007  179.190002  178.919998  179.184998   \n",
       "2021-12-10 15:56:00  179.184998  179.300003  179.169998  179.270004   \n",
       "2021-12-10 15:57:00  179.270004  179.369995  179.210007  179.210007   \n",
       "2021-12-10 15:58:00  179.210007  179.479996  179.123199  179.460007   \n",
       "2021-12-10 15:59:00  179.470001  179.630005  179.350006  179.500000   \n",
       "\n",
       "                      Adj Close   Volume  \n",
       "2021-11-29 09:30:00  159.804993  3937352  \n",
       "2021-11-29 09:31:00  159.382996   884406  \n",
       "2021-11-29 09:32:00  159.100006   506205  \n",
       "2021-11-29 09:33:00  159.376907   468256  \n",
       "2021-11-29 09:34:00  159.580002   447870  \n",
       "...                         ...      ...  \n",
       "2021-12-10 15:55:00  179.184998   727684  \n",
       "2021-12-10 15:56:00  179.270004   835855  \n",
       "2021-12-10 15:57:00  179.210007   838444  \n",
       "2021-12-10 15:58:00  179.460007  1004865  \n",
       "2021-12-10 15:59:00  179.500000  1736159  \n",
       "\n",
       "[3899 rows x 6 columns]"
      ]
     },
     "execution_count": 68,
     "metadata": {},
     "output_type": "execute_result"
    }
   ],
   "source": [
    "df"
   ]
  },
  {
   "cell_type": "code",
   "execution_count": null,
   "id": "e318c166",
   "metadata": {},
   "outputs": [],
   "source": []
  },
  {
   "cell_type": "code",
   "execution_count": 54,
   "id": "b43261eb",
   "metadata": {},
   "outputs": [],
   "source": [
    "df = pd.read_csv(r'C:\\Users\\slama\\PycharmProjects\\traiding\\backtesting\\AAPL_1min_2weeks.csv', index_col='Datetime')"
   ]
  },
  {
   "cell_type": "code",
   "execution_count": 57,
   "id": "c1ce3afe",
   "metadata": {},
   "outputs": [],
   "source": [
    "df.index = pd.to_datetime(df.index)"
   ]
  },
  {
   "cell_type": "code",
   "execution_count": 58,
   "id": "58ab814c",
   "metadata": {},
   "outputs": [
    {
     "data": {
      "text/plain": [
       "DatetimeIndex(['2021-11-29 09:30:00-05:00', '2021-11-29 09:31:00-05:00',\n",
       "               '2021-11-29 09:32:00-05:00', '2021-11-29 09:33:00-05:00',\n",
       "               '2021-11-29 09:34:00-05:00', '2021-11-29 09:35:00-05:00',\n",
       "               '2021-11-29 09:36:00-05:00', '2021-11-29 09:37:00-05:00',\n",
       "               '2021-11-29 09:38:00-05:00', '2021-11-29 09:39:00-05:00',\n",
       "               ...\n",
       "               '2021-12-10 15:50:00-05:00', '2021-12-10 15:51:00-05:00',\n",
       "               '2021-12-10 15:52:00-05:00', '2021-12-10 15:53:00-05:00',\n",
       "               '2021-12-10 15:54:00-05:00', '2021-12-10 15:55:00-05:00',\n",
       "               '2021-12-10 15:56:00-05:00', '2021-12-10 15:57:00-05:00',\n",
       "               '2021-12-10 15:58:00-05:00', '2021-12-10 15:59:00-05:00'],\n",
       "              dtype='datetime64[ns, pytz.FixedOffset(-300)]', name='Datetime', length=3899, freq=None)"
      ]
     },
     "execution_count": 58,
     "metadata": {},
     "output_type": "execute_result"
    }
   ],
   "source": [
    "df.index"
   ]
  },
  {
   "cell_type": "code",
   "execution_count": null,
   "id": "d4d814d4",
   "metadata": {},
   "outputs": [],
   "source": []
  }
 ],
 "metadata": {
  "kernelspec": {
   "display_name": "Python 3 (ipykernel)",
   "language": "python",
   "name": "python3"
  },
  "language_info": {
   "codemirror_mode": {
    "name": "ipython",
    "version": 3
   },
   "file_extension": ".py",
   "mimetype": "text/x-python",
   "name": "python",
   "nbconvert_exporter": "python",
   "pygments_lexer": "ipython3",
   "version": "3.9.1"
  }
 },
 "nbformat": 4,
 "nbformat_minor": 5
}
