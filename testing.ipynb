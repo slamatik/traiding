{
 "cells": [
  {
   "cell_type": "code",
   "execution_count": 1,
   "id": "c71359e5",
   "metadata": {
    "scrolled": true
   },
   "outputs": [
    {
     "name": "stdout",
     "output_type": "stream",
     "text": [
      "[*********************100%***********************]  1 of 1 completed\n"
     ]
    },
    {
     "data": {
      "text/html": [
       "<div>\n",
       "<style scoped>\n",
       "    .dataframe tbody tr th:only-of-type {\n",
       "        vertical-align: middle;\n",
       "    }\n",
       "\n",
       "    .dataframe tbody tr th {\n",
       "        vertical-align: top;\n",
       "    }\n",
       "\n",
       "    .dataframe thead th {\n",
       "        text-align: right;\n",
       "    }\n",
       "</style>\n",
       "<table border=\"1\" class=\"dataframe\">\n",
       "  <thead>\n",
       "    <tr style=\"text-align: right;\">\n",
       "      <th></th>\n",
       "      <th>Open</th>\n",
       "      <th>High</th>\n",
       "      <th>Low</th>\n",
       "      <th>Close</th>\n",
       "      <th>Adj Close</th>\n",
       "      <th>Volume</th>\n",
       "    </tr>\n",
       "    <tr>\n",
       "      <th>Date</th>\n",
       "      <th></th>\n",
       "      <th></th>\n",
       "      <th></th>\n",
       "      <th></th>\n",
       "      <th></th>\n",
       "      <th></th>\n",
       "    </tr>\n",
       "  </thead>\n",
       "  <tbody>\n",
       "    <tr>\n",
       "      <th>2021-03-03</th>\n",
       "      <td>44.580002</td>\n",
       "      <td>45.080002</td>\n",
       "      <td>41.110001</td>\n",
       "      <td>41.529999</td>\n",
       "      <td>41.529999</td>\n",
       "      <td>107863400</td>\n",
       "    </tr>\n",
       "    <tr>\n",
       "      <th>2021-03-04</th>\n",
       "      <td>40.490002</td>\n",
       "      <td>42.430000</td>\n",
       "      <td>37.590000</td>\n",
       "      <td>39.279999</td>\n",
       "      <td>39.279999</td>\n",
       "      <td>205872700</td>\n",
       "    </tr>\n",
       "    <tr>\n",
       "      <th>2021-03-05</th>\n",
       "      <td>39.240002</td>\n",
       "      <td>39.869999</td>\n",
       "      <td>31.910000</td>\n",
       "      <td>38.110001</td>\n",
       "      <td>38.110001</td>\n",
       "      <td>270803200</td>\n",
       "    </tr>\n",
       "    <tr>\n",
       "      <th>2021-03-08</th>\n",
       "      <td>36.970001</td>\n",
       "      <td>39.480000</td>\n",
       "      <td>34.900002</td>\n",
       "      <td>35.209999</td>\n",
       "      <td>35.209999</td>\n",
       "      <td>143074800</td>\n",
       "    </tr>\n",
       "    <tr>\n",
       "      <th>2021-03-09</th>\n",
       "      <td>37.480000</td>\n",
       "      <td>42.080002</td>\n",
       "      <td>36.520000</td>\n",
       "      <td>41.349998</td>\n",
       "      <td>41.349998</td>\n",
       "      <td>176602600</td>\n",
       "    </tr>\n",
       "    <tr>\n",
       "      <th>...</th>\n",
       "      <td>...</td>\n",
       "      <td>...</td>\n",
       "      <td>...</td>\n",
       "      <td>...</td>\n",
       "      <td>...</td>\n",
       "      <td>...</td>\n",
       "    </tr>\n",
       "    <tr>\n",
       "      <th>2021-08-30</th>\n",
       "      <td>38.169998</td>\n",
       "      <td>38.279999</td>\n",
       "      <td>36.639999</td>\n",
       "      <td>37.799999</td>\n",
       "      <td>37.799999</td>\n",
       "      <td>38128000</td>\n",
       "    </tr>\n",
       "    <tr>\n",
       "      <th>2021-08-31</th>\n",
       "      <td>38.240002</td>\n",
       "      <td>39.389999</td>\n",
       "      <td>37.900002</td>\n",
       "      <td>39.310001</td>\n",
       "      <td>39.310001</td>\n",
       "      <td>44942200</td>\n",
       "    </tr>\n",
       "    <tr>\n",
       "      <th>2021-09-01</th>\n",
       "      <td>37.490002</td>\n",
       "      <td>39.930000</td>\n",
       "      <td>37.200001</td>\n",
       "      <td>39.080002</td>\n",
       "      <td>39.080002</td>\n",
       "      <td>56911500</td>\n",
       "    </tr>\n",
       "    <tr>\n",
       "      <th>2021-09-02</th>\n",
       "      <td>39.070000</td>\n",
       "      <td>41.020000</td>\n",
       "      <td>38.900002</td>\n",
       "      <td>40.349998</td>\n",
       "      <td>40.349998</td>\n",
       "      <td>43827700</td>\n",
       "    </tr>\n",
       "    <tr>\n",
       "      <th>2021-09-03</th>\n",
       "      <td>40.110001</td>\n",
       "      <td>40.965000</td>\n",
       "      <td>39.831001</td>\n",
       "      <td>40.139999</td>\n",
       "      <td>40.139999</td>\n",
       "      <td>26314280</td>\n",
       "    </tr>\n",
       "  </tbody>\n",
       "</table>\n",
       "<p>130 rows × 6 columns</p>\n",
       "</div>"
      ],
      "text/plain": [
       "                 Open       High        Low      Close  Adj Close     Volume\n",
       "Date                                                                        \n",
       "2021-03-03  44.580002  45.080002  41.110001  41.529999  41.529999  107863400\n",
       "2021-03-04  40.490002  42.430000  37.590000  39.279999  39.279999  205872700\n",
       "2021-03-05  39.240002  39.869999  31.910000  38.110001  38.110001  270803200\n",
       "2021-03-08  36.970001  39.480000  34.900002  35.209999  35.209999  143074800\n",
       "2021-03-09  37.480000  42.080002  36.520000  41.349998  41.349998  176602600\n",
       "...               ...        ...        ...        ...        ...        ...\n",
       "2021-08-30  38.169998  38.279999  36.639999  37.799999  37.799999   38128000\n",
       "2021-08-31  38.240002  39.389999  37.900002  39.310001  39.310001   44942200\n",
       "2021-09-01  37.490002  39.930000  37.200001  39.080002  39.080002   56911500\n",
       "2021-09-02  39.070000  41.020000  38.900002  40.349998  40.349998   43827700\n",
       "2021-09-03  40.110001  40.965000  39.831001  40.139999  40.139999   26314280\n",
       "\n",
       "[130 rows x 6 columns]"
      ]
     },
     "execution_count": 1,
     "metadata": {},
     "output_type": "execute_result"
    }
   ],
   "source": [
    "import yfinance as yf \n",
    "import talib as ta\n",
    "\n",
    "msft = yf.download('NIO', period='6mo', interval='1d')\n",
    "msft"
   ]
  },
  {
   "cell_type": "code",
   "execution_count": 7,
   "id": "e1c68dbb",
   "metadata": {},
   "outputs": [],
   "source": [
    "ha = ta.CDLHAMMER(open=msft.Open, close=msft.Close, high=msft.High, low=msft.Low)"
   ]
  },
  {
   "cell_type": "code",
   "execution_count": 8,
   "id": "e10321be",
   "metadata": {},
   "outputs": [
    {
     "data": {
      "text/plain": [
       "Date\n",
       "2021-07-02    100\n",
       "2021-08-30    100\n",
       "dtype: int32"
      ]
     },
     "execution_count": 8,
     "metadata": {},
     "output_type": "execute_result"
    }
   ],
   "source": [
    "ha[ha > 1]"
   ]
  },
  {
   "cell_type": "code",
   "execution_count": null,
   "id": "f8982f6f",
   "metadata": {},
   "outputs": [],
   "source": []
  },
  {
   "cell_type": "code",
   "execution_count": 46,
   "id": "62bd5b28",
   "metadata": {},
   "outputs": [],
   "source": [
    "txt = 'geeks for geeks'\n",
    "pat = 'geek'\n",
    "q = 101\n",
    "d = 256"
   ]
  },
  {
   "cell_type": "code",
   "execution_count": 54,
   "id": "04b7c5a7",
   "metadata": {},
   "outputs": [],
   "source": [
    "n = len(txt)\n",
    "m = len(pat)\n",
    "\n",
    "p = 0\n",
    "t = 0\n",
    "\n",
    "h = 1"
   ]
  },
  {
   "cell_type": "code",
   "execution_count": 55,
   "id": "e7ea09c1",
   "metadata": {},
   "outputs": [],
   "source": [
    "for i in range(m-1):\n",
    "    h = (h * d) % q"
   ]
  },
  {
   "cell_type": "code",
   "execution_count": 56,
   "id": "4e8d704a",
   "metadata": {},
   "outputs": [],
   "source": [
    "for i in range(m):\n",
    "    p = (d * p + ord(pat[i])) % q # hash value of pattern\n",
    "    t = (d * t + ord(txt[i])) % q # hash value of first window of the text"
   ]
  },
  {
   "cell_type": "code",
   "execution_count": 62,
   "id": "2499d76b",
   "metadata": {},
   "outputs": [
    {
     "name": "stdout",
     "output_type": "stream",
     "text": [
      "Pattern found at index 0\n",
      "Pattern found at index 10\n"
     ]
    }
   ],
   "source": [
    "for i in range(n - m + 1):\n",
    "    if p == t:\n",
    "        for j in range(m):\n",
    "            if txt[i+j] != pat[j]:\n",
    "                break\n",
    "            else:\n",
    "                j += 1\n",
    "        if j == m:\n",
    "            print(f'Pattern found at index {i}')\n",
    "    if i < n - m:\n",
    "        t ="
   ]
  },
  {
   "cell_type": "code",
   "execution_count": 60,
   "id": "72632790",
   "metadata": {},
   "outputs": [
    {
     "data": {
      "text/plain": [
       "15"
      ]
     },
     "execution_count": 60,
     "metadata": {},
     "output_type": "execute_result"
    }
   ],
   "source": [
    "n"
   ]
  },
  {
   "cell_type": "code",
   "execution_count": null,
   "id": "35030c36",
   "metadata": {},
   "outputs": [],
   "source": []
  }
 ],
 "metadata": {
  "kernelspec": {
   "display_name": "Python 3 (ipykernel)",
   "language": "python",
   "name": "python3"
  },
  "language_info": {
   "codemirror_mode": {
    "name": "ipython",
    "version": 3
   },
   "file_extension": ".py",
   "mimetype": "text/x-python",
   "name": "python",
   "nbconvert_exporter": "python",
   "pygments_lexer": "ipython3",
   "version": "3.9.1"
  }
 },
 "nbformat": 4,
 "nbformat_minor": 5
}
